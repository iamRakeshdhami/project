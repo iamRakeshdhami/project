{
 "cells": [
  {
   "cell_type": "code",
   "execution_count": 1,
   "id": "0478ee5b",
   "metadata": {},
   "outputs": [],
   "source": [
    "import pandas as pd\n",
    "import numpy as np\n",
    "import matplotlib.pyplot as plt\n",
    "import seaborn as sns"
   ]
  },
  {
   "cell_type": "code",
   "execution_count": 2,
   "id": "2fa32e50",
   "metadata": {},
   "outputs": [],
   "source": [
    "from alpha_vantage.timeseries import TimeSeries"
   ]
  },
  {
   "cell_type": "code",
   "execution_count": 3,
   "id": "e3473e8a",
   "metadata": {},
   "outputs": [
    {
     "data": {
      "text/html": [
       "<div>\n",
       "<style scoped>\n",
       "    .dataframe tbody tr th:only-of-type {\n",
       "        vertical-align: middle;\n",
       "    }\n",
       "\n",
       "    .dataframe tbody tr th {\n",
       "        vertical-align: top;\n",
       "    }\n",
       "\n",
       "    .dataframe thead th {\n",
       "        text-align: right;\n",
       "    }\n",
       "</style>\n",
       "<table border=\"1\" class=\"dataframe\">\n",
       "  <thead>\n",
       "    <tr style=\"text-align: right;\">\n",
       "      <th></th>\n",
       "      <th>1. open</th>\n",
       "      <th>2. high</th>\n",
       "      <th>3. low</th>\n",
       "      <th>4. close</th>\n",
       "      <th>5. volume</th>\n",
       "    </tr>\n",
       "    <tr>\n",
       "      <th>date</th>\n",
       "      <th></th>\n",
       "      <th></th>\n",
       "      <th></th>\n",
       "      <th></th>\n",
       "      <th></th>\n",
       "    </tr>\n",
       "  </thead>\n",
       "  <tbody>\n",
       "    <tr>\n",
       "      <th>2023-02-14 20:00:00</th>\n",
       "      <td>152.79</td>\n",
       "      <td>152.850</td>\n",
       "      <td>152.76</td>\n",
       "      <td>152.84</td>\n",
       "      <td>9429.0</td>\n",
       "    </tr>\n",
       "    <tr>\n",
       "      <th>2023-02-14 19:55:00</th>\n",
       "      <td>152.75</td>\n",
       "      <td>152.770</td>\n",
       "      <td>152.73</td>\n",
       "      <td>152.77</td>\n",
       "      <td>3596.0</td>\n",
       "    </tr>\n",
       "    <tr>\n",
       "      <th>2023-02-14 19:50:00</th>\n",
       "      <td>152.75</td>\n",
       "      <td>152.760</td>\n",
       "      <td>152.70</td>\n",
       "      <td>152.71</td>\n",
       "      <td>4770.0</td>\n",
       "    </tr>\n",
       "    <tr>\n",
       "      <th>2023-02-14 19:45:00</th>\n",
       "      <td>152.84</td>\n",
       "      <td>152.870</td>\n",
       "      <td>152.75</td>\n",
       "      <td>152.76</td>\n",
       "      <td>7379.0</td>\n",
       "    </tr>\n",
       "    <tr>\n",
       "      <th>2023-02-14 19:40:00</th>\n",
       "      <td>152.87</td>\n",
       "      <td>152.870</td>\n",
       "      <td>152.84</td>\n",
       "      <td>152.84</td>\n",
       "      <td>1795.0</td>\n",
       "    </tr>\n",
       "    <tr>\n",
       "      <th>...</th>\n",
       "      <td>...</td>\n",
       "      <td>...</td>\n",
       "      <td>...</td>\n",
       "      <td>...</td>\n",
       "      <td>...</td>\n",
       "    </tr>\n",
       "    <tr>\n",
       "      <th>2023-02-14 12:00:00</th>\n",
       "      <td>151.56</td>\n",
       "      <td>151.830</td>\n",
       "      <td>151.36</td>\n",
       "      <td>151.70</td>\n",
       "      <td>518882.0</td>\n",
       "    </tr>\n",
       "    <tr>\n",
       "      <th>2023-02-14 11:55:00</th>\n",
       "      <td>151.53</td>\n",
       "      <td>151.600</td>\n",
       "      <td>151.17</td>\n",
       "      <td>151.55</td>\n",
       "      <td>496456.0</td>\n",
       "    </tr>\n",
       "    <tr>\n",
       "      <th>2023-02-14 11:50:00</th>\n",
       "      <td>151.13</td>\n",
       "      <td>151.720</td>\n",
       "      <td>151.10</td>\n",
       "      <td>151.54</td>\n",
       "      <td>494145.0</td>\n",
       "    </tr>\n",
       "    <tr>\n",
       "      <th>2023-02-14 11:45:00</th>\n",
       "      <td>151.35</td>\n",
       "      <td>151.386</td>\n",
       "      <td>151.04</td>\n",
       "      <td>151.14</td>\n",
       "      <td>490943.0</td>\n",
       "    </tr>\n",
       "    <tr>\n",
       "      <th>2023-02-14 11:40:00</th>\n",
       "      <td>151.21</td>\n",
       "      <td>152.030</td>\n",
       "      <td>151.14</td>\n",
       "      <td>151.33</td>\n",
       "      <td>630530.0</td>\n",
       "    </tr>\n",
       "  </tbody>\n",
       "</table>\n",
       "<p>100 rows × 5 columns</p>\n",
       "</div>"
      ],
      "text/plain": [
       "                     1. open  2. high  3. low  4. close  5. volume\n",
       "date                                                              \n",
       "2023-02-14 20:00:00   152.79  152.850  152.76    152.84     9429.0\n",
       "2023-02-14 19:55:00   152.75  152.770  152.73    152.77     3596.0\n",
       "2023-02-14 19:50:00   152.75  152.760  152.70    152.71     4770.0\n",
       "2023-02-14 19:45:00   152.84  152.870  152.75    152.76     7379.0\n",
       "2023-02-14 19:40:00   152.87  152.870  152.84    152.84     1795.0\n",
       "...                      ...      ...     ...       ...        ...\n",
       "2023-02-14 12:00:00   151.56  151.830  151.36    151.70   518882.0\n",
       "2023-02-14 11:55:00   151.53  151.600  151.17    151.55   496456.0\n",
       "2023-02-14 11:50:00   151.13  151.720  151.10    151.54   494145.0\n",
       "2023-02-14 11:45:00   151.35  151.386  151.04    151.14   490943.0\n",
       "2023-02-14 11:40:00   151.21  152.030  151.14    151.33   630530.0\n",
       "\n",
       "[100 rows x 5 columns]"
      ]
     },
     "execution_count": 3,
     "metadata": {},
     "output_type": "execute_result"
    }
   ],
   "source": [
    "API_key = '7B77DN42UJ2P4TF2'\n",
    "ts =TimeSeries(key =API_key,output_format =\"pandas\")\n",
    "AAPL =ts.get_intraday(\"AAPL\",interval='5min')\n",
    "aapl=AAPL[0]\n",
    "aapl"
   ]
  },
  {
   "cell_type": "code",
   "execution_count": 4,
   "id": "dbfd42cc",
   "metadata": {},
   "outputs": [
    {
     "data": {
      "text/html": [
       "<div>\n",
       "<style scoped>\n",
       "    .dataframe tbody tr th:only-of-type {\n",
       "        vertical-align: middle;\n",
       "    }\n",
       "\n",
       "    .dataframe tbody tr th {\n",
       "        vertical-align: top;\n",
       "    }\n",
       "\n",
       "    .dataframe thead th {\n",
       "        text-align: right;\n",
       "    }\n",
       "</style>\n",
       "<table border=\"1\" class=\"dataframe\">\n",
       "  <thead>\n",
       "    <tr style=\"text-align: right;\">\n",
       "      <th></th>\n",
       "      <th>1. open</th>\n",
       "      <th>2. high</th>\n",
       "      <th>3. low</th>\n",
       "      <th>4. close</th>\n",
       "      <th>5. volume</th>\n",
       "    </tr>\n",
       "    <tr>\n",
       "      <th>date</th>\n",
       "      <th></th>\n",
       "      <th></th>\n",
       "      <th></th>\n",
       "      <th></th>\n",
       "      <th></th>\n",
       "    </tr>\n",
       "  </thead>\n",
       "  <tbody>\n",
       "    <tr>\n",
       "      <th>2023-02-14 20:00:00</th>\n",
       "      <td>94.180</td>\n",
       "      <td>94.1800</td>\n",
       "      <td>94.110</td>\n",
       "      <td>94.1200</td>\n",
       "      <td>9174.0</td>\n",
       "    </tr>\n",
       "    <tr>\n",
       "      <th>2023-02-14 19:55:00</th>\n",
       "      <td>94.230</td>\n",
       "      <td>94.2300</td>\n",
       "      <td>94.180</td>\n",
       "      <td>94.1800</td>\n",
       "      <td>2882.0</td>\n",
       "    </tr>\n",
       "    <tr>\n",
       "      <th>2023-02-14 19:50:00</th>\n",
       "      <td>94.240</td>\n",
       "      <td>94.2400</td>\n",
       "      <td>93.500</td>\n",
       "      <td>93.5000</td>\n",
       "      <td>15924.0</td>\n",
       "    </tr>\n",
       "    <tr>\n",
       "      <th>2023-02-14 19:45:00</th>\n",
       "      <td>94.260</td>\n",
       "      <td>94.2899</td>\n",
       "      <td>94.200</td>\n",
       "      <td>94.2000</td>\n",
       "      <td>5486.0</td>\n",
       "    </tr>\n",
       "    <tr>\n",
       "      <th>2023-02-14 19:40:00</th>\n",
       "      <td>94.260</td>\n",
       "      <td>94.3200</td>\n",
       "      <td>94.250</td>\n",
       "      <td>94.3200</td>\n",
       "      <td>5043.0</td>\n",
       "    </tr>\n",
       "    <tr>\n",
       "      <th>...</th>\n",
       "      <td>...</td>\n",
       "      <td>...</td>\n",
       "      <td>...</td>\n",
       "      <td>...</td>\n",
       "      <td>...</td>\n",
       "    </tr>\n",
       "    <tr>\n",
       "      <th>2023-02-14 12:00:00</th>\n",
       "      <td>92.460</td>\n",
       "      <td>92.7300</td>\n",
       "      <td>92.450</td>\n",
       "      <td>92.6607</td>\n",
       "      <td>368689.0</td>\n",
       "    </tr>\n",
       "    <tr>\n",
       "      <th>2023-02-14 11:55:00</th>\n",
       "      <td>92.550</td>\n",
       "      <td>92.5700</td>\n",
       "      <td>92.270</td>\n",
       "      <td>92.4679</td>\n",
       "      <td>385199.0</td>\n",
       "    </tr>\n",
       "    <tr>\n",
       "      <th>2023-02-14 11:50:00</th>\n",
       "      <td>92.330</td>\n",
       "      <td>92.6300</td>\n",
       "      <td>92.305</td>\n",
       "      <td>92.5500</td>\n",
       "      <td>683503.0</td>\n",
       "    </tr>\n",
       "    <tr>\n",
       "      <th>2023-02-14 11:45:00</th>\n",
       "      <td>92.360</td>\n",
       "      <td>92.4550</td>\n",
       "      <td>92.260</td>\n",
       "      <td>92.3531</td>\n",
       "      <td>604495.0</td>\n",
       "    </tr>\n",
       "    <tr>\n",
       "      <th>2023-02-14 11:40:00</th>\n",
       "      <td>92.545</td>\n",
       "      <td>92.6300</td>\n",
       "      <td>92.330</td>\n",
       "      <td>92.3550</td>\n",
       "      <td>537103.0</td>\n",
       "    </tr>\n",
       "  </tbody>\n",
       "</table>\n",
       "<p>100 rows × 5 columns</p>\n",
       "</div>"
      ],
      "text/plain": [
       "                     1. open  2. high  3. low  4. close  5. volume\n",
       "date                                                              \n",
       "2023-02-14 20:00:00   94.180  94.1800  94.110   94.1200     9174.0\n",
       "2023-02-14 19:55:00   94.230  94.2300  94.180   94.1800     2882.0\n",
       "2023-02-14 19:50:00   94.240  94.2400  93.500   93.5000    15924.0\n",
       "2023-02-14 19:45:00   94.260  94.2899  94.200   94.2000     5486.0\n",
       "2023-02-14 19:40:00   94.260  94.3200  94.250   94.3200     5043.0\n",
       "...                      ...      ...     ...       ...        ...\n",
       "2023-02-14 12:00:00   92.460  92.7300  92.450   92.6607   368689.0\n",
       "2023-02-14 11:55:00   92.550  92.5700  92.270   92.4679   385199.0\n",
       "2023-02-14 11:50:00   92.330  92.6300  92.305   92.5500   683503.0\n",
       "2023-02-14 11:45:00   92.360  92.4550  92.260   92.3531   604495.0\n",
       "2023-02-14 11:40:00   92.545  92.6300  92.330   92.3550   537103.0\n",
       "\n",
       "[100 rows x 5 columns]"
      ]
     },
     "execution_count": 4,
     "metadata": {},
     "output_type": "execute_result"
    }
   ],
   "source": [
    "API_key = '7B77DN42UJ2P4TF2'\n",
    "ts =TimeSeries(key =API_key,output_format =\"pandas\")\n",
    "GOOGL =ts.get_intraday(\"GOOGL\",interval='5min')\n",
    "googl =GOOGL[0]\n",
    "googl"
   ]
  },
  {
   "cell_type": "markdown",
   "id": "2aecbf00",
   "metadata": {},
   "source": [
    "# firstly analyse the aapl data"
   ]
  },
  {
   "cell_type": "code",
   "execution_count": 5,
   "id": "283489e9",
   "metadata": {},
   "outputs": [
    {
     "name": "stdout",
     "output_type": "stream",
     "text": [
      "<class 'pandas.core.frame.DataFrame'>\n",
      "DatetimeIndex: 100 entries, 2023-02-14 20:00:00 to 2023-02-14 11:40:00\n",
      "Data columns (total 5 columns):\n",
      " #   Column     Non-Null Count  Dtype  \n",
      "---  ------     --------------  -----  \n",
      " 0   1. open    100 non-null    float64\n",
      " 1   2. high    100 non-null    float64\n",
      " 2   3. low     100 non-null    float64\n",
      " 3   4. close   100 non-null    float64\n",
      " 4   5. volume  100 non-null    float64\n",
      "dtypes: float64(5)\n",
      "memory usage: 4.7 KB\n"
     ]
    }
   ],
   "source": [
    "aapl.info()"
   ]
  },
  {
   "cell_type": "code",
   "execution_count": 6,
   "id": "c223aab4",
   "metadata": {},
   "outputs": [
    {
     "data": {
      "text/html": [
       "<div>\n",
       "<style scoped>\n",
       "    .dataframe tbody tr th:only-of-type {\n",
       "        vertical-align: middle;\n",
       "    }\n",
       "\n",
       "    .dataframe tbody tr th {\n",
       "        vertical-align: top;\n",
       "    }\n",
       "\n",
       "    .dataframe thead th {\n",
       "        text-align: right;\n",
       "    }\n",
       "</style>\n",
       "<table border=\"1\" class=\"dataframe\">\n",
       "  <thead>\n",
       "    <tr style=\"text-align: right;\">\n",
       "      <th></th>\n",
       "      <th>1. open</th>\n",
       "      <th>2. high</th>\n",
       "      <th>3. low</th>\n",
       "      <th>4. close</th>\n",
       "      <th>5. volume</th>\n",
       "    </tr>\n",
       "    <tr>\n",
       "      <th>date</th>\n",
       "      <th></th>\n",
       "      <th></th>\n",
       "      <th></th>\n",
       "      <th></th>\n",
       "      <th></th>\n",
       "    </tr>\n",
       "  </thead>\n",
       "  <tbody>\n",
       "    <tr>\n",
       "      <th>2023-02-14 20:00:00</th>\n",
       "      <td>152.79</td>\n",
       "      <td>152.85</td>\n",
       "      <td>152.76</td>\n",
       "      <td>152.84</td>\n",
       "      <td>9429.0</td>\n",
       "    </tr>\n",
       "    <tr>\n",
       "      <th>2023-02-14 19:55:00</th>\n",
       "      <td>152.75</td>\n",
       "      <td>152.77</td>\n",
       "      <td>152.73</td>\n",
       "      <td>152.77</td>\n",
       "      <td>3596.0</td>\n",
       "    </tr>\n",
       "    <tr>\n",
       "      <th>2023-02-14 19:50:00</th>\n",
       "      <td>152.75</td>\n",
       "      <td>152.76</td>\n",
       "      <td>152.70</td>\n",
       "      <td>152.71</td>\n",
       "      <td>4770.0</td>\n",
       "    </tr>\n",
       "    <tr>\n",
       "      <th>2023-02-14 19:45:00</th>\n",
       "      <td>152.84</td>\n",
       "      <td>152.87</td>\n",
       "      <td>152.75</td>\n",
       "      <td>152.76</td>\n",
       "      <td>7379.0</td>\n",
       "    </tr>\n",
       "    <tr>\n",
       "      <th>2023-02-14 19:40:00</th>\n",
       "      <td>152.87</td>\n",
       "      <td>152.87</td>\n",
       "      <td>152.84</td>\n",
       "      <td>152.84</td>\n",
       "      <td>1795.0</td>\n",
       "    </tr>\n",
       "  </tbody>\n",
       "</table>\n",
       "</div>"
      ],
      "text/plain": [
       "                     1. open  2. high  3. low  4. close  5. volume\n",
       "date                                                              \n",
       "2023-02-14 20:00:00   152.79   152.85  152.76    152.84     9429.0\n",
       "2023-02-14 19:55:00   152.75   152.77  152.73    152.77     3596.0\n",
       "2023-02-14 19:50:00   152.75   152.76  152.70    152.71     4770.0\n",
       "2023-02-14 19:45:00   152.84   152.87  152.75    152.76     7379.0\n",
       "2023-02-14 19:40:00   152.87   152.87  152.84    152.84     1795.0"
      ]
     },
     "execution_count": 6,
     "metadata": {},
     "output_type": "execute_result"
    }
   ],
   "source": [
    "aapl.head()"
   ]
  },
  {
   "cell_type": "code",
   "execution_count": 7,
   "id": "49546221",
   "metadata": {},
   "outputs": [],
   "source": [
    "columns =['open','high','low','close','volume']\n",
    "aapl.columns =columns"
   ]
  },
  {
   "cell_type": "code",
   "execution_count": 8,
   "id": "31a78227",
   "metadata": {},
   "outputs": [],
   "source": [
    "aapl['volume'] =aapl[\"volume\"].astype(np.int64)"
   ]
  },
  {
   "cell_type": "code",
   "execution_count": 9,
   "id": "d8d6b2d0",
   "metadata": {},
   "outputs": [
    {
     "name": "stdout",
     "output_type": "stream",
     "text": [
      "<class 'pandas.core.frame.DataFrame'>\n",
      "DatetimeIndex: 100 entries, 2023-02-14 20:00:00 to 2023-02-14 11:40:00\n",
      "Data columns (total 5 columns):\n",
      " #   Column  Non-Null Count  Dtype  \n",
      "---  ------  --------------  -----  \n",
      " 0   open    100 non-null    float64\n",
      " 1   high    100 non-null    float64\n",
      " 2   low     100 non-null    float64\n",
      " 3   close   100 non-null    float64\n",
      " 4   volume  100 non-null    int64  \n",
      "dtypes: float64(4), int64(1)\n",
      "memory usage: 4.7 KB\n"
     ]
    }
   ],
   "source": [
    "aapl.info()"
   ]
  },
  {
   "cell_type": "code",
   "execution_count": 10,
   "id": "1c03b474",
   "metadata": {},
   "outputs": [
    {
     "data": {
      "text/plain": [
       "[<matplotlib.lines.Line2D at 0x1df68b19480>]"
      ]
     },
     "execution_count": 10,
     "metadata": {},
     "output_type": "execute_result"
    },
    {
     "data": {
      "image/png": "[encoded data removed]",
      "text/plain": [
       "<Figure size 432x288 with 1 Axes>"
      ]
     },
     "metadata": {
      "needs_background": "light"
     },
     "output_type": "display_data"
    }
   ],
   "source": [
    "plt.plot(aapl['close'])"
   ]
  },
  {
   "cell_type": "code",
   "execution_count": 11,
   "id": "53a4b7d1",
   "metadata": {},
   "outputs": [],
   "source": [
    "aapl['tradedate'] = aapl.index.date\n",
    "aapl['time']= aapl.index.time"
   ]
  },
  {
   "cell_type": "code",
   "execution_count": 12,
   "id": "1a2348fd",
   "metadata": {},
   "outputs": [
    {
     "data": {
      "text/html": [
       "<div>\n",
       "<style scoped>\n",
       "    .dataframe tbody tr th:only-of-type {\n",
       "        vertical-align: middle;\n",
       "    }\n",
       "\n",
       "    .dataframe tbody tr th {\n",
       "        vertical-align: top;\n",
       "    }\n",
       "\n",
       "    .dataframe thead th {\n",
       "        text-align: right;\n",
       "    }\n",
       "</style>\n",
       "<table border=\"1\" class=\"dataframe\">\n",
       "  <thead>\n",
       "    <tr style=\"text-align: right;\">\n",
       "      <th></th>\n",
       "      <th>open</th>\n",
       "      <th>high</th>\n",
       "      <th>low</th>\n",
       "      <th>close</th>\n",
       "      <th>volume</th>\n",
       "      <th>tradedate</th>\n",
       "      <th>time</th>\n",
       "    </tr>\n",
       "    <tr>\n",
       "      <th>date</th>\n",
       "      <th></th>\n",
       "      <th></th>\n",
       "      <th></th>\n",
       "      <th></th>\n",
       "      <th></th>\n",
       "      <th></th>\n",
       "      <th></th>\n",
       "    </tr>\n",
       "  </thead>\n",
       "  <tbody>\n",
       "  </tbody>\n",
       "</table>\n",
       "</div>"
      ],
      "text/plain": [
       "Empty DataFrame\n",
       "Columns: [open, high, low, close, volume, tradedate, time]\n",
       "Index: []"
      ]
     },
     "execution_count": 12,
     "metadata": {},
     "output_type": "execute_result"
    }
   ],
   "source": [
    "aapl.loc[\"2023-02-13\"]"
   ]
  },
  {
   "cell_type": "code",
   "execution_count": 13,
   "id": "afd1822a",
   "metadata": {},
   "outputs": [
    {
     "data": {
      "text/html": [
       "<div>\n",
       "<style scoped>\n",
       "    .dataframe tbody tr th:only-of-type {\n",
       "        vertical-align: middle;\n",
       "    }\n",
       "\n",
       "    .dataframe tbody tr th {\n",
       "        vertical-align: top;\n",
       "    }\n",
       "\n",
       "    .dataframe thead th {\n",
       "        text-align: right;\n",
       "    }\n",
       "</style>\n",
       "<table border=\"1\" class=\"dataframe\">\n",
       "  <thead>\n",
       "    <tr style=\"text-align: right;\">\n",
       "      <th></th>\n",
       "      <th>low</th>\n",
       "      <th>high</th>\n",
       "    </tr>\n",
       "    <tr>\n",
       "      <th>tradedate</th>\n",
       "      <th></th>\n",
       "      <th></th>\n",
       "    </tr>\n",
       "  </thead>\n",
       "  <tbody>\n",
       "    <tr>\n",
       "      <th>2023-02-14</th>\n",
       "      <td>151.04</td>\n",
       "      <td>153.73</td>\n",
       "    </tr>\n",
       "  </tbody>\n",
       "</table>\n",
       "</div>"
      ],
      "text/plain": [
       "               low    high\n",
       "tradedate                 \n",
       "2023-02-14  151.04  153.73"
      ]
     },
     "execution_count": 13,
     "metadata": {},
     "output_type": "execute_result"
    }
   ],
   "source": [
    "aapl.groupby('tradedate').agg({\"low\":min,\"high\":max})"
   ]
  },
  {
   "cell_type": "code",
   "execution_count": 14,
   "id": "730cf2de",
   "metadata": {},
   "outputs": [
    {
     "data": {
      "text/html": [
       "<div>\n",
       "<style scoped>\n",
       "    .dataframe tbody tr th:only-of-type {\n",
       "        vertical-align: middle;\n",
       "    }\n",
       "\n",
       "    .dataframe tbody tr th {\n",
       "        vertical-align: top;\n",
       "    }\n",
       "\n",
       "    .dataframe thead th {\n",
       "        text-align: right;\n",
       "    }\n",
       "</style>\n",
       "<table border=\"1\" class=\"dataframe\">\n",
       "  <thead>\n",
       "    <tr style=\"text-align: right;\">\n",
       "      <th></th>\n",
       "      <th>open</th>\n",
       "      <th>high</th>\n",
       "      <th>low</th>\n",
       "      <th>close</th>\n",
       "      <th>volume</th>\n",
       "      <th>tradedate</th>\n",
       "      <th>time</th>\n",
       "    </tr>\n",
       "    <tr>\n",
       "      <th>date</th>\n",
       "      <th></th>\n",
       "      <th></th>\n",
       "      <th></th>\n",
       "      <th></th>\n",
       "      <th></th>\n",
       "      <th></th>\n",
       "      <th></th>\n",
       "    </tr>\n",
       "  </thead>\n",
       "  <tbody>\n",
       "    <tr>\n",
       "      <th>2023-02-14 11:45:00</th>\n",
       "      <td>151.35</td>\n",
       "      <td>151.386</td>\n",
       "      <td>151.04</td>\n",
       "      <td>151.14</td>\n",
       "      <td>490943</td>\n",
       "      <td>2023-02-14</td>\n",
       "      <td>11:45:00</td>\n",
       "    </tr>\n",
       "  </tbody>\n",
       "</table>\n",
       "</div>"
      ],
      "text/plain": [
       "                       open     high     low   close  volume   tradedate  \\\n",
       "date                                                                       \n",
       "2023-02-14 11:45:00  151.35  151.386  151.04  151.14  490943  2023-02-14   \n",
       "\n",
       "                         time  \n",
       "date                           \n",
       "2023-02-14 11:45:00  11:45:00  "
      ]
     },
     "execution_count": 14,
     "metadata": {},
     "output_type": "execute_result"
    }
   ],
   "source": [
    "aapl.loc[aapl.groupby(\"tradedate\")['low'].idxmin()]"
   ]
  },
  {
   "cell_type": "code",
   "execution_count": 15,
   "id": "eef19937",
   "metadata": {},
   "outputs": [
    {
     "data": {
      "text/html": [
       "<div>\n",
       "<style scoped>\n",
       "    .dataframe tbody tr th:only-of-type {\n",
       "        vertical-align: middle;\n",
       "    }\n",
       "\n",
       "    .dataframe tbody tr th {\n",
       "        vertical-align: top;\n",
       "    }\n",
       "\n",
       "    .dataframe thead th {\n",
       "        text-align: right;\n",
       "    }\n",
       "</style>\n",
       "<table border=\"1\" class=\"dataframe\">\n",
       "  <thead>\n",
       "    <tr style=\"text-align: right;\">\n",
       "      <th></th>\n",
       "      <th>open</th>\n",
       "      <th>high</th>\n",
       "      <th>low</th>\n",
       "      <th>close</th>\n",
       "      <th>volume</th>\n",
       "      <th>tradedate</th>\n",
       "      <th>time</th>\n",
       "    </tr>\n",
       "    <tr>\n",
       "      <th>date</th>\n",
       "      <th></th>\n",
       "      <th></th>\n",
       "      <th></th>\n",
       "      <th></th>\n",
       "      <th></th>\n",
       "      <th></th>\n",
       "      <th></th>\n",
       "    </tr>\n",
       "  </thead>\n",
       "  <tbody>\n",
       "    <tr>\n",
       "      <th>2023-02-14 16:00:00</th>\n",
       "      <td>153.52</td>\n",
       "      <td>153.73</td>\n",
       "      <td>153.08</td>\n",
       "      <td>153.1</td>\n",
       "      <td>2400160</td>\n",
       "      <td>2023-02-14</td>\n",
       "      <td>16:00:00</td>\n",
       "    </tr>\n",
       "  </tbody>\n",
       "</table>\n",
       "</div>"
      ],
      "text/plain": [
       "                       open    high     low  close   volume   tradedate  \\\n",
       "date                                                                      \n",
       "2023-02-14 16:00:00  153.52  153.73  153.08  153.1  2400160  2023-02-14   \n",
       "\n",
       "                         time  \n",
       "date                           \n",
       "2023-02-14 16:00:00  16:00:00  "
      ]
     },
     "execution_count": 15,
     "metadata": {},
     "output_type": "execute_result"
    }
   ],
   "source": [
    "aapl.loc[aapl.groupby(\"tradedate\")['high'].idxmax()]"
   ]
  },
  {
   "cell_type": "markdown",
   "id": "bc331338",
   "metadata": {},
   "source": [
    "# than analysed googl data"
   ]
  },
  {
   "cell_type": "code",
   "execution_count": 16,
   "id": "1d49e44d",
   "metadata": {},
   "outputs": [
    {
     "data": {
      "text/html": [
       "<div>\n",
       "<style scoped>\n",
       "    .dataframe tbody tr th:only-of-type {\n",
       "        vertical-align: middle;\n",
       "    }\n",
       "\n",
       "    .dataframe tbody tr th {\n",
       "        vertical-align: top;\n",
       "    }\n",
       "\n",
       "    .dataframe thead th {\n",
       "        text-align: right;\n",
       "    }\n",
       "</style>\n",
       "<table border=\"1\" class=\"dataframe\">\n",
       "  <thead>\n",
       "    <tr style=\"text-align: right;\">\n",
       "      <th></th>\n",
       "      <th>1. open</th>\n",
       "      <th>2. high</th>\n",
       "      <th>3. low</th>\n",
       "      <th>4. close</th>\n",
       "      <th>5. volume</th>\n",
       "    </tr>\n",
       "    <tr>\n",
       "      <th>date</th>\n",
       "      <th></th>\n",
       "      <th></th>\n",
       "      <th></th>\n",
       "      <th></th>\n",
       "      <th></th>\n",
       "    </tr>\n",
       "  </thead>\n",
       "  <tbody>\n",
       "    <tr>\n",
       "      <th>2023-02-14 20:00:00</th>\n",
       "      <td>94.18</td>\n",
       "      <td>94.1800</td>\n",
       "      <td>94.11</td>\n",
       "      <td>94.12</td>\n",
       "      <td>9174.0</td>\n",
       "    </tr>\n",
       "    <tr>\n",
       "      <th>2023-02-14 19:55:00</th>\n",
       "      <td>94.23</td>\n",
       "      <td>94.2300</td>\n",
       "      <td>94.18</td>\n",
       "      <td>94.18</td>\n",
       "      <td>2882.0</td>\n",
       "    </tr>\n",
       "    <tr>\n",
       "      <th>2023-02-14 19:50:00</th>\n",
       "      <td>94.24</td>\n",
       "      <td>94.2400</td>\n",
       "      <td>93.50</td>\n",
       "      <td>93.50</td>\n",
       "      <td>15924.0</td>\n",
       "    </tr>\n",
       "    <tr>\n",
       "      <th>2023-02-14 19:45:00</th>\n",
       "      <td>94.26</td>\n",
       "      <td>94.2899</td>\n",
       "      <td>94.20</td>\n",
       "      <td>94.20</td>\n",
       "      <td>5486.0</td>\n",
       "    </tr>\n",
       "    <tr>\n",
       "      <th>2023-02-14 19:40:00</th>\n",
       "      <td>94.26</td>\n",
       "      <td>94.3200</td>\n",
       "      <td>94.25</td>\n",
       "      <td>94.32</td>\n",
       "      <td>5043.0</td>\n",
       "    </tr>\n",
       "  </tbody>\n",
       "</table>\n",
       "</div>"
      ],
      "text/plain": [
       "                     1. open  2. high  3. low  4. close  5. volume\n",
       "date                                                              \n",
       "2023-02-14 20:00:00    94.18  94.1800   94.11     94.12     9174.0\n",
       "2023-02-14 19:55:00    94.23  94.2300   94.18     94.18     2882.0\n",
       "2023-02-14 19:50:00    94.24  94.2400   93.50     93.50    15924.0\n",
       "2023-02-14 19:45:00    94.26  94.2899   94.20     94.20     5486.0\n",
       "2023-02-14 19:40:00    94.26  94.3200   94.25     94.32     5043.0"
      ]
     },
     "execution_count": 16,
     "metadata": {},
     "output_type": "execute_result"
    }
   ],
   "source": [
    "googl.head()"
   ]
  },
  {
   "cell_type": "code",
   "execution_count": 17,
   "id": "c711d754",
   "metadata": {},
   "outputs": [],
   "source": [
    "columns =['open','high','low','close','volume']\n",
    "googl.columns =columns"
   ]
  },
  {
   "cell_type": "code",
   "execution_count": 18,
   "id": "c273229f",
   "metadata": {},
   "outputs": [],
   "source": [
    "aapl['volume'] =aapl[\"volume\"].astype(np.int64)"
   ]
  },
  {
   "cell_type": "code",
   "execution_count": 19,
   "id": "c9f5a85d",
   "metadata": {},
   "outputs": [
    {
     "data": {
      "text/plain": [
       "[<matplotlib.lines.Line2D at 0x1df6ac531c0>]"
      ]
     },
     "execution_count": 19,
     "metadata": {},
     "output_type": "execute_result"
    },
    {
     "data": {
      "image/png": "[encoded data removed]",
      "text/plain": [
       "<Figure size 432x288 with 1 Axes>"
      ]
     },
     "metadata": {
      "needs_background": "light"
     },
     "output_type": "display_data"
    }
   ],
   "source": [
    "plt.plot(googl['close'])"
   ]
  },
  {
   "cell_type": "code",
   "execution_count": 20,
   "id": "edc7b309",
   "metadata": {},
   "outputs": [],
   "source": [
    "googl['tradedate'] = googl.index.date\n",
    "googl['time']= googl.index.time"
   ]
  },
  {
   "cell_type": "code",
   "execution_count": 21,
   "id": "e2ded0a9",
   "metadata": {},
   "outputs": [
    {
     "data": {
      "text/html": [
       "<div>\n",
       "<style scoped>\n",
       "    .dataframe tbody tr th:only-of-type {\n",
       "        vertical-align: middle;\n",
       "    }\n",
       "\n",
       "    .dataframe tbody tr th {\n",
       "        vertical-align: top;\n",
       "    }\n",
       "\n",
       "    .dataframe thead th {\n",
       "        text-align: right;\n",
       "    }\n",
       "</style>\n",
       "<table border=\"1\" class=\"dataframe\">\n",
       "  <thead>\n",
       "    <tr style=\"text-align: right;\">\n",
       "      <th></th>\n",
       "      <th>open</th>\n",
       "      <th>high</th>\n",
       "      <th>low</th>\n",
       "      <th>close</th>\n",
       "      <th>volume</th>\n",
       "      <th>tradedate</th>\n",
       "      <th>time</th>\n",
       "    </tr>\n",
       "    <tr>\n",
       "      <th>date</th>\n",
       "      <th></th>\n",
       "      <th></th>\n",
       "      <th></th>\n",
       "      <th></th>\n",
       "      <th></th>\n",
       "      <th></th>\n",
       "      <th></th>\n",
       "    </tr>\n",
       "  </thead>\n",
       "  <tbody>\n",
       "    <tr>\n",
       "      <th>2023-02-14 20:00:00</th>\n",
       "      <td>94.18</td>\n",
       "      <td>94.1800</td>\n",
       "      <td>94.11</td>\n",
       "      <td>94.12</td>\n",
       "      <td>9174.0</td>\n",
       "      <td>2023-02-14</td>\n",
       "      <td>20:00:00</td>\n",
       "    </tr>\n",
       "    <tr>\n",
       "      <th>2023-02-14 19:55:00</th>\n",
       "      <td>94.23</td>\n",
       "      <td>94.2300</td>\n",
       "      <td>94.18</td>\n",
       "      <td>94.18</td>\n",
       "      <td>2882.0</td>\n",
       "      <td>2023-02-14</td>\n",
       "      <td>19:55:00</td>\n",
       "    </tr>\n",
       "    <tr>\n",
       "      <th>2023-02-14 19:50:00</th>\n",
       "      <td>94.24</td>\n",
       "      <td>94.2400</td>\n",
       "      <td>93.50</td>\n",
       "      <td>93.50</td>\n",
       "      <td>15924.0</td>\n",
       "      <td>2023-02-14</td>\n",
       "      <td>19:50:00</td>\n",
       "    </tr>\n",
       "    <tr>\n",
       "      <th>2023-02-14 19:45:00</th>\n",
       "      <td>94.26</td>\n",
       "      <td>94.2899</td>\n",
       "      <td>94.20</td>\n",
       "      <td>94.20</td>\n",
       "      <td>5486.0</td>\n",
       "      <td>2023-02-14</td>\n",
       "      <td>19:45:00</td>\n",
       "    </tr>\n",
       "    <tr>\n",
       "      <th>2023-02-14 19:40:00</th>\n",
       "      <td>94.26</td>\n",
       "      <td>94.3200</td>\n",
       "      <td>94.25</td>\n",
       "      <td>94.32</td>\n",
       "      <td>5043.0</td>\n",
       "      <td>2023-02-14</td>\n",
       "      <td>19:40:00</td>\n",
       "    </tr>\n",
       "  </tbody>\n",
       "</table>\n",
       "</div>"
      ],
      "text/plain": [
       "                      open     high    low  close   volume   tradedate  \\\n",
       "date                                                                     \n",
       "2023-02-14 20:00:00  94.18  94.1800  94.11  94.12   9174.0  2023-02-14   \n",
       "2023-02-14 19:55:00  94.23  94.2300  94.18  94.18   2882.0  2023-02-14   \n",
       "2023-02-14 19:50:00  94.24  94.2400  93.50  93.50  15924.0  2023-02-14   \n",
       "2023-02-14 19:45:00  94.26  94.2899  94.20  94.20   5486.0  2023-02-14   \n",
       "2023-02-14 19:40:00  94.26  94.3200  94.25  94.32   5043.0  2023-02-14   \n",
       "\n",
       "                         time  \n",
       "date                           \n",
       "2023-02-14 20:00:00  20:00:00  \n",
       "2023-02-14 19:55:00  19:55:00  \n",
       "2023-02-14 19:50:00  19:50:00  \n",
       "2023-02-14 19:45:00  19:45:00  \n",
       "2023-02-14 19:40:00  19:40:00  "
      ]
     },
     "execution_count": 21,
     "metadata": {},
     "output_type": "execute_result"
    }
   ],
   "source": [
    "googl.head()"
   ]
  },
  {
   "cell_type": "code",
   "execution_count": 22,
   "id": "cdc65b49",
   "metadata": {},
   "outputs": [
    {
     "data": {
      "text/html": [
       "<div>\n",
       "<style scoped>\n",
       "    .dataframe tbody tr th:only-of-type {\n",
       "        vertical-align: middle;\n",
       "    }\n",
       "\n",
       "    .dataframe tbody tr th {\n",
       "        vertical-align: top;\n",
       "    }\n",
       "\n",
       "    .dataframe thead th {\n",
       "        text-align: right;\n",
       "    }\n",
       "</style>\n",
       "<table border=\"1\" class=\"dataframe\">\n",
       "  <thead>\n",
       "    <tr style=\"text-align: right;\">\n",
       "      <th></th>\n",
       "      <th>low</th>\n",
       "      <th>high</th>\n",
       "    </tr>\n",
       "    <tr>\n",
       "      <th>tradedate</th>\n",
       "      <th></th>\n",
       "      <th></th>\n",
       "    </tr>\n",
       "  </thead>\n",
       "  <tbody>\n",
       "    <tr>\n",
       "      <th>2023-02-14</th>\n",
       "      <td>92.26</td>\n",
       "      <td>94.845</td>\n",
       "    </tr>\n",
       "  </tbody>\n",
       "</table>\n",
       "</div>"
      ],
      "text/plain": [
       "              low    high\n",
       "tradedate                \n",
       "2023-02-14  92.26  94.845"
      ]
     },
     "execution_count": 22,
     "metadata": {},
     "output_type": "execute_result"
    }
   ],
   "source": [
    "googl.groupby('tradedate').agg({\"low\":min,\"high\":max})"
   ]
  },
  {
   "cell_type": "code",
   "execution_count": 23,
   "id": "872d8d3e",
   "metadata": {},
   "outputs": [
    {
     "data": {
      "text/html": [
       "<div>\n",
       "<style scoped>\n",
       "    .dataframe tbody tr th:only-of-type {\n",
       "        vertical-align: middle;\n",
       "    }\n",
       "\n",
       "    .dataframe tbody tr th {\n",
       "        vertical-align: top;\n",
       "    }\n",
       "\n",
       "    .dataframe thead th {\n",
       "        text-align: right;\n",
       "    }\n",
       "</style>\n",
       "<table border=\"1\" class=\"dataframe\">\n",
       "  <thead>\n",
       "    <tr style=\"text-align: right;\">\n",
       "      <th></th>\n",
       "      <th>open</th>\n",
       "      <th>high</th>\n",
       "      <th>low</th>\n",
       "      <th>close</th>\n",
       "      <th>volume</th>\n",
       "      <th>tradedate</th>\n",
       "      <th>time</th>\n",
       "    </tr>\n",
       "    <tr>\n",
       "      <th>date</th>\n",
       "      <th></th>\n",
       "      <th></th>\n",
       "      <th></th>\n",
       "      <th></th>\n",
       "      <th></th>\n",
       "      <th></th>\n",
       "      <th></th>\n",
       "    </tr>\n",
       "  </thead>\n",
       "  <tbody>\n",
       "    <tr>\n",
       "      <th>2023-02-14 11:45:00</th>\n",
       "      <td>92.36</td>\n",
       "      <td>92.455</td>\n",
       "      <td>92.26</td>\n",
       "      <td>92.3531</td>\n",
       "      <td>604495.0</td>\n",
       "      <td>2023-02-14</td>\n",
       "      <td>11:45:00</td>\n",
       "    </tr>\n",
       "  </tbody>\n",
       "</table>\n",
       "</div>"
      ],
      "text/plain": [
       "                      open    high    low    close    volume   tradedate  \\\n",
       "date                                                                       \n",
       "2023-02-14 11:45:00  92.36  92.455  92.26  92.3531  604495.0  2023-02-14   \n",
       "\n",
       "                         time  \n",
       "date                           \n",
       "2023-02-14 11:45:00  11:45:00  "
      ]
     },
     "execution_count": 23,
     "metadata": {},
     "output_type": "execute_result"
    }
   ],
   "source": [
    "googl.loc[googl.groupby(\"tradedate\")['low'].idxmin()]"
   ]
  },
  {
   "cell_type": "code",
   "execution_count": 24,
   "id": "3f3a2765",
   "metadata": {},
   "outputs": [
    {
     "data": {
      "text/html": [
       "<div>\n",
       "<style scoped>\n",
       "    .dataframe tbody tr th:only-of-type {\n",
       "        vertical-align: middle;\n",
       "    }\n",
       "\n",
       "    .dataframe tbody tr th {\n",
       "        vertical-align: top;\n",
       "    }\n",
       "\n",
       "    .dataframe thead th {\n",
       "        text-align: right;\n",
       "    }\n",
       "</style>\n",
       "<table border=\"1\" class=\"dataframe\">\n",
       "  <thead>\n",
       "    <tr style=\"text-align: right;\">\n",
       "      <th></th>\n",
       "      <th>open</th>\n",
       "      <th>high</th>\n",
       "      <th>low</th>\n",
       "      <th>close</th>\n",
       "      <th>volume</th>\n",
       "      <th>tradedate</th>\n",
       "      <th>time</th>\n",
       "    </tr>\n",
       "    <tr>\n",
       "      <th>date</th>\n",
       "      <th></th>\n",
       "      <th></th>\n",
       "      <th></th>\n",
       "      <th></th>\n",
       "      <th></th>\n",
       "      <th></th>\n",
       "      <th></th>\n",
       "    </tr>\n",
       "  </thead>\n",
       "  <tbody>\n",
       "    <tr>\n",
       "      <th>2023-02-14 16:00:00</th>\n",
       "      <td>94.72</td>\n",
       "      <td>94.845</td>\n",
       "      <td>94.62</td>\n",
       "      <td>94.63</td>\n",
       "      <td>1911120.0</td>\n",
       "      <td>2023-02-14</td>\n",
       "      <td>16:00:00</td>\n",
       "    </tr>\n",
       "  </tbody>\n",
       "</table>\n",
       "</div>"
      ],
      "text/plain": [
       "                      open    high    low  close     volume   tradedate  \\\n",
       "date                                                                      \n",
       "2023-02-14 16:00:00  94.72  94.845  94.62  94.63  1911120.0  2023-02-14   \n",
       "\n",
       "                         time  \n",
       "date                           \n",
       "2023-02-14 16:00:00  16:00:00  "
      ]
     },
     "execution_count": 24,
     "metadata": {},
     "output_type": "execute_result"
    }
   ],
   "source": [
    "googl.loc[googl.groupby(\"tradedate\")['high'].idxmax()]"
   ]
  },
  {
   "cell_type": "code",
   "execution_count": 25,
   "id": "e3897f07",
   "metadata": {},
   "outputs": [],
   "source": [
    "from matplotlib import rcParams"
   ]
  },
  {
   "cell_type": "code",
   "execution_count": 26,
   "id": "9c9d4cdf",
   "metadata": {},
   "outputs": [
    {
     "name": "stderr",
     "output_type": "stream",
     "text": [
      "No artists with labels found to put in legend.  Note that artists whose label start with an underscore are ignored when legend() is called with no argument.\n"
     ]
    },
    {
     "data": {
      "image/png": "[encoded data removed]",
      "text/plain": [
       "<Figure size 720x432 with 1 Axes>"
      ]
     },
     "metadata": {
      "needs_background": "light"
     },
     "output_type": "display_data"
    }
   ],
   "source": [
    "rcParams['figure.figsize'] =10,6\n",
    "plt.plot(aapl['close'])\n",
    "plt.plot(googl['close'])\n",
    "plt.grid(True,color =\"k\",linestyle=\":\")\n",
    "plt.title(\"AAPL & GOOGL close data\")\n",
    "plt.ylim(50,200)\n",
    "plt.legend(loc =2);"
   ]
  },
  {
   "cell_type": "code",
   "execution_count": 27,
   "id": "cdf042b3",
   "metadata": {},
   "outputs": [],
   "source": [
    "from talib import abstract\n"
   ]
  },
  {
   "cell_type": "code",
   "execution_count": 28,
   "id": "23e089dd",
   "metadata": {},
   "outputs": [
    {
     "data": {
      "text/plain": [
       "date\n",
       "2023-02-14 20:00:00      NaN\n",
       "2023-02-14 19:55:00      NaN\n",
       "2023-02-14 19:50:00      NaN\n",
       "2023-02-14 19:45:00      NaN\n",
       "2023-02-14 19:40:00      NaN\n",
       "                       ...  \n",
       "2023-02-14 12:00:00   -100.0\n",
       "2023-02-14 11:55:00    -80.0\n",
       "2023-02-14 11:50:00   -100.0\n",
       "2023-02-14 11:45:00    -80.0\n",
       "2023-02-14 11:40:00     20.0\n",
       "Length: 100, dtype: float64"
      ]
     },
     "execution_count": 28,
     "metadata": {},
     "output_type": "execute_result"
    }
   ],
   "source": [
    "indicator=abstract.AROONOSC(aapl,timeperiod =5)\n",
    "indicator"
   ]
  },
  {
   "cell_type": "code",
   "execution_count": 29,
   "id": "472d023b",
   "metadata": {},
   "outputs": [
    {
     "data": {
      "text/plain": [
       "date\n",
       "2023-02-14 20:00:00      NaN\n",
       "2023-02-14 19:55:00      NaN\n",
       "2023-02-14 19:50:00      NaN\n",
       "2023-02-14 19:45:00      NaN\n",
       "2023-02-14 19:40:00      NaN\n",
       "                       ...  \n",
       "2023-02-14 12:00:00    -80.0\n",
       "2023-02-14 11:55:00   -100.0\n",
       "2023-02-14 11:50:00    -80.0\n",
       "2023-02-14 11:45:00    -80.0\n",
       "2023-02-14 11:40:00    -80.0\n",
       "Length: 100, dtype: float64"
      ]
     },
     "execution_count": 29,
     "metadata": {},
     "output_type": "execute_result"
    }
   ],
   "source": [
    "indicator_1=abstract.AROONOSC(googl,timeperiod =5)\n",
    "indicator_1"
   ]
  },
  {
   "cell_type": "markdown",
   "id": "d76ecb4a",
   "metadata": {},
   "source": [
    "# visualize the data in candlestick form"
   ]
  },
  {
   "cell_type": "code",
   "execution_count": 30,
   "id": "eb04638a",
   "metadata": {},
   "outputs": [],
   "source": [
    "from plotly.offline import plot\n",
    "import plotly.graph_objs as go"
   ]
  },
  {
   "cell_type": "code",
   "execution_count": 31,
   "id": "cdccf25d",
   "metadata": {},
   "outputs": [
    {
     "data": {
      "text/plain": [
       "'go_candle1.html'"
      ]
     },
     "execution_count": 31,
     "metadata": {},
     "output_type": "execute_result"
    }
   ],
   "source": [
    "o = aapl['open'].astype(float)\n",
    "h = aapl['high'].astype(float)\n",
    "l = aapl['low'].astype(float)\n",
    "c = aapl['close'].astype(float)\n",
    "\n",
    "trace = go.Candlestick(\n",
    "            open=o,\n",
    "            high=h,\n",
    "            low=l,\n",
    "            close=c)\n",
    "data = [trace]\n",
    "\n",
    "plot(data, filename='go_candle1.html')"
   ]
  },
  {
   "cell_type": "code",
   "execution_count": 32,
   "id": "11e8b247",
   "metadata": {},
   "outputs": [
    {
     "data": {
      "text/plain": [
       "'go_candle1.html'"
      ]
     },
     "execution_count": 32,
     "metadata": {},
     "output_type": "execute_result"
    }
   ],
   "source": [
    "o = googl['open'].astype(float)\n",
    "h = googl['high'].astype(float)\n",
    "l = googl['low'].astype(float)\n",
    "c = googl['close'].astype(float)\n",
    "\n",
    "trace = go.Candlestick(\n",
    "            open=o,\n",
    "            high=h,\n",
    "            low=l,\n",
    "            close=c)\n",
    "data = [trace]\n",
    "\n",
    "plot(data, filename='go_candle1.html')"
   ]
  },
  {
   "cell_type": "code",
   "execution_count": null,
   "id": "7ac2654d",
   "metadata": {},
   "outputs": [],
   "source": []
  }
 ],
 "metadata": {
  "kernelspec": {
   "display_name": "Python 3 (ipykernel)",
   "language": "python",
   "name": "python3"
  },
  "language_info": {
   "codemirror_mode": {
    "name": "ipython",
    "version": 3
   },
   "file_extension": ".py",
   "mimetype": "text/x-python",
   "name": "python",
   "nbconvert_exporter": "python",
   "pygments_lexer": "ipython3",
   "version": "3.10.2"
  }
 },
 "nbformat": 4,
 "nbformat_minor": 5
}
